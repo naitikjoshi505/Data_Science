{
 "cells": [
  {
   "cell_type": "code",
   "execution_count": 60,
   "id": "15d3797b",
   "metadata": {},
   "outputs": [],
   "source": [
    "%matplotlib inline\n",
    "import numpy as np\n",
    "import pandas as pd\n",
    "import matplotlib.pyplot as plt\n",
    "import seaborn as sns\n",
    "\n",
    "pd.options.display.float_format = '{:.2f}'.format"
   ]
  },
  {
   "cell_type": "markdown",
   "id": "728b6a0a",
   "metadata": {},
   "source": [
    "# Data Understanding and Exploration"
   ]
  },
  {
   "cell_type": "markdown",
   "id": "7f291582",
   "metadata": {},
   "source": [
    "### 1. Load the Data"
   ]
  },
  {
   "cell_type": "code",
   "execution_count": 87,
   "id": "2cbcadb9",
   "metadata": {},
   "outputs": [],
   "source": [
    "adv = pd.read_csv(r\"C:\\Users\\asus\\Desktop\\Data_Science\\Principles of Data Science\\adverts.csv\")"
   ]
  },
  {
   "cell_type": "markdown",
   "id": "9b5c5dcd",
   "metadata": {},
   "source": [
    "### 2. Sample Observations"
   ]
  },
  {
   "cell_type": "code",
   "execution_count": 88,
   "id": "f1bb2df2",
   "metadata": {},
   "outputs": [
    {
     "data": {
      "text/html": [
       "<div>\n",
       "<style scoped>\n",
       "    .dataframe tbody tr th:only-of-type {\n",
       "        vertical-align: middle;\n",
       "    }\n",
       "\n",
       "    .dataframe tbody tr th {\n",
       "        vertical-align: top;\n",
       "    }\n",
       "\n",
       "    .dataframe thead th {\n",
       "        text-align: right;\n",
       "    }\n",
       "</style>\n",
       "<table border=\"1\" class=\"dataframe\">\n",
       "  <thead>\n",
       "    <tr style=\"text-align: right;\">\n",
       "      <th></th>\n",
       "      <th>public_reference</th>\n",
       "      <th>mileage</th>\n",
       "      <th>reg_code</th>\n",
       "      <th>standard_colour</th>\n",
       "      <th>standard_make</th>\n",
       "      <th>standard_model</th>\n",
       "      <th>vehicle_condition</th>\n",
       "      <th>year_of_registration</th>\n",
       "      <th>price</th>\n",
       "      <th>body_type</th>\n",
       "      <th>crossover_car_and_van</th>\n",
       "      <th>fuel_type</th>\n",
       "    </tr>\n",
       "  </thead>\n",
       "  <tbody>\n",
       "    <tr>\n",
       "      <th>0</th>\n",
       "      <td>202006039777689</td>\n",
       "      <td>0.00</td>\n",
       "      <td>NaN</td>\n",
       "      <td>Grey</td>\n",
       "      <td>Volvo</td>\n",
       "      <td>XC90</td>\n",
       "      <td>NEW</td>\n",
       "      <td>NaN</td>\n",
       "      <td>73970</td>\n",
       "      <td>SUV</td>\n",
       "      <td>False</td>\n",
       "      <td>Petrol Plug-in Hybrid</td>\n",
       "    </tr>\n",
       "    <tr>\n",
       "      <th>1</th>\n",
       "      <td>202007020778260</td>\n",
       "      <td>108230.00</td>\n",
       "      <td>61</td>\n",
       "      <td>Blue</td>\n",
       "      <td>Jaguar</td>\n",
       "      <td>XF</td>\n",
       "      <td>USED</td>\n",
       "      <td>2011.00</td>\n",
       "      <td>7000</td>\n",
       "      <td>Saloon</td>\n",
       "      <td>False</td>\n",
       "      <td>Diesel</td>\n",
       "    </tr>\n",
       "    <tr>\n",
       "      <th>2</th>\n",
       "      <td>202007020778474</td>\n",
       "      <td>7800.00</td>\n",
       "      <td>17</td>\n",
       "      <td>Grey</td>\n",
       "      <td>SKODA</td>\n",
       "      <td>Yeti</td>\n",
       "      <td>USED</td>\n",
       "      <td>2017.00</td>\n",
       "      <td>14000</td>\n",
       "      <td>SUV</td>\n",
       "      <td>False</td>\n",
       "      <td>Petrol</td>\n",
       "    </tr>\n",
       "    <tr>\n",
       "      <th>3</th>\n",
       "      <td>202007080986776</td>\n",
       "      <td>45000.00</td>\n",
       "      <td>16</td>\n",
       "      <td>Brown</td>\n",
       "      <td>Vauxhall</td>\n",
       "      <td>Mokka</td>\n",
       "      <td>USED</td>\n",
       "      <td>2016.00</td>\n",
       "      <td>7995</td>\n",
       "      <td>Hatchback</td>\n",
       "      <td>False</td>\n",
       "      <td>Diesel</td>\n",
       "    </tr>\n",
       "    <tr>\n",
       "      <th>4</th>\n",
       "      <td>202007161321269</td>\n",
       "      <td>64000.00</td>\n",
       "      <td>64</td>\n",
       "      <td>Grey</td>\n",
       "      <td>Land Rover</td>\n",
       "      <td>Range Rover Sport</td>\n",
       "      <td>USED</td>\n",
       "      <td>2015.00</td>\n",
       "      <td>26995</td>\n",
       "      <td>SUV</td>\n",
       "      <td>False</td>\n",
       "      <td>Diesel</td>\n",
       "    </tr>\n",
       "  </tbody>\n",
       "</table>\n",
       "</div>"
      ],
      "text/plain": [
       "   public_reference   mileage reg_code standard_colour standard_make  \\\n",
       "0   202006039777689      0.00      NaN            Grey         Volvo   \n",
       "1   202007020778260 108230.00       61            Blue        Jaguar   \n",
       "2   202007020778474   7800.00       17            Grey         SKODA   \n",
       "3   202007080986776  45000.00       16           Brown      Vauxhall   \n",
       "4   202007161321269  64000.00       64            Grey    Land Rover   \n",
       "\n",
       "      standard_model vehicle_condition  year_of_registration  price  \\\n",
       "0               XC90               NEW                   NaN  73970   \n",
       "1                 XF              USED               2011.00   7000   \n",
       "2               Yeti              USED               2017.00  14000   \n",
       "3              Mokka              USED               2016.00   7995   \n",
       "4  Range Rover Sport              USED               2015.00  26995   \n",
       "\n",
       "   body_type  crossover_car_and_van              fuel_type  \n",
       "0        SUV                  False  Petrol Plug-in Hybrid  \n",
       "1     Saloon                  False                 Diesel  \n",
       "2        SUV                  False                 Petrol  \n",
       "3  Hatchback                  False                 Diesel  \n",
       "4        SUV                  False                 Diesel  "
      ]
     },
     "execution_count": 88,
     "metadata": {},
     "output_type": "execute_result"
    }
   ],
   "source": [
    "# Here I have used .head() to get some insights of first 5 rows.\n",
    "adv.head()"
   ]
  },
  {
   "cell_type": "code",
   "execution_count": 90,
   "id": "8403fdb5",
   "metadata": {},
   "outputs": [
    {
     "data": {
      "text/plain": [
       "public_reference         202010084771255\n",
       "mileage                              NaN\n",
       "reg_code                              20\n",
       "standard_colour                     Blue\n",
       "standard_make                        BMW\n",
       "standard_model                  3 Series\n",
       "vehicle_condition                   USED\n",
       "year_of_registration             2020.00\n",
       "price                              36990\n",
       "body_type                         Saloon\n",
       "crossover_car_and_van              False\n",
       "fuel_type                  Diesel Hybrid\n",
       "Name: 9178, dtype: object"
      ]
     },
     "execution_count": 90,
     "metadata": {},
     "output_type": "execute_result"
    }
   ],
   "source": [
    "adv.loc[9178]"
   ]
  },
  {
   "cell_type": "code",
   "execution_count": 91,
   "id": "8aaa50c5",
   "metadata": {},
   "outputs": [
    {
     "data": {
      "text/html": [
       "<div>\n",
       "<style scoped>\n",
       "    .dataframe tbody tr th:only-of-type {\n",
       "        vertical-align: middle;\n",
       "    }\n",
       "\n",
       "    .dataframe tbody tr th {\n",
       "        vertical-align: top;\n",
       "    }\n",
       "\n",
       "    .dataframe thead th {\n",
       "        text-align: right;\n",
       "    }\n",
       "</style>\n",
       "<table border=\"1\" class=\"dataframe\">\n",
       "  <thead>\n",
       "    <tr style=\"text-align: right;\">\n",
       "      <th></th>\n",
       "      <th>public_reference</th>\n",
       "      <th>mileage</th>\n",
       "      <th>reg_code</th>\n",
       "      <th>standard_colour</th>\n",
       "      <th>standard_make</th>\n",
       "      <th>standard_model</th>\n",
       "      <th>vehicle_condition</th>\n",
       "      <th>year_of_registration</th>\n",
       "      <th>price</th>\n",
       "      <th>body_type</th>\n",
       "      <th>crossover_car_and_van</th>\n",
       "      <th>fuel_type</th>\n",
       "    </tr>\n",
       "  </thead>\n",
       "  <tbody>\n",
       "    <tr>\n",
       "      <th>402000</th>\n",
       "      <td>202010315652942</td>\n",
       "      <td>5179.00</td>\n",
       "      <td>69</td>\n",
       "      <td>Grey</td>\n",
       "      <td>Peugeot</td>\n",
       "      <td>208</td>\n",
       "      <td>USED</td>\n",
       "      <td>2019.00</td>\n",
       "      <td>10595</td>\n",
       "      <td>Hatchback</td>\n",
       "      <td>False</td>\n",
       "      <td>Petrol</td>\n",
       "    </tr>\n",
       "    <tr>\n",
       "      <th>402001</th>\n",
       "      <td>202010315657341</td>\n",
       "      <td>110000.00</td>\n",
       "      <td>59</td>\n",
       "      <td>Red</td>\n",
       "      <td>Peugeot</td>\n",
       "      <td>107</td>\n",
       "      <td>USED</td>\n",
       "      <td>2009.00</td>\n",
       "      <td>2000</td>\n",
       "      <td>Hatchback</td>\n",
       "      <td>False</td>\n",
       "      <td>Petrol</td>\n",
       "    </tr>\n",
       "    <tr>\n",
       "      <th>402002</th>\n",
       "      <td>202010315659271</td>\n",
       "      <td>52760.00</td>\n",
       "      <td>62</td>\n",
       "      <td>White</td>\n",
       "      <td>Nissan</td>\n",
       "      <td>Qashqai</td>\n",
       "      <td>USED</td>\n",
       "      <td>2012.00</td>\n",
       "      <td>7250</td>\n",
       "      <td>SUV</td>\n",
       "      <td>False</td>\n",
       "      <td>Petrol</td>\n",
       "    </tr>\n",
       "    <tr>\n",
       "      <th>402003</th>\n",
       "      <td>202011015662436</td>\n",
       "      <td>10250.00</td>\n",
       "      <td>65</td>\n",
       "      <td>Red</td>\n",
       "      <td>Abarth</td>\n",
       "      <td>595</td>\n",
       "      <td>USED</td>\n",
       "      <td>2015.00</td>\n",
       "      <td>11490</td>\n",
       "      <td>Hatchback</td>\n",
       "      <td>False</td>\n",
       "      <td>Petrol</td>\n",
       "    </tr>\n",
       "    <tr>\n",
       "      <th>402004</th>\n",
       "      <td>201512149444029</td>\n",
       "      <td>14000.00</td>\n",
       "      <td>14</td>\n",
       "      <td>Silver</td>\n",
       "      <td>Audi</td>\n",
       "      <td>A4 Avant</td>\n",
       "      <td>USED</td>\n",
       "      <td>2014.00</td>\n",
       "      <td>20520</td>\n",
       "      <td>Estate</td>\n",
       "      <td>False</td>\n",
       "      <td>Diesel</td>\n",
       "    </tr>\n",
       "  </tbody>\n",
       "</table>\n",
       "</div>"
      ],
      "text/plain": [
       "        public_reference   mileage reg_code standard_colour standard_make  \\\n",
       "402000   202010315652942   5179.00       69            Grey       Peugeot   \n",
       "402001   202010315657341 110000.00       59             Red       Peugeot   \n",
       "402002   202010315659271  52760.00       62           White        Nissan   \n",
       "402003   202011015662436  10250.00       65             Red        Abarth   \n",
       "402004   201512149444029  14000.00       14          Silver          Audi   \n",
       "\n",
       "       standard_model vehicle_condition  year_of_registration  price  \\\n",
       "402000            208              USED               2019.00  10595   \n",
       "402001            107              USED               2009.00   2000   \n",
       "402002        Qashqai              USED               2012.00   7250   \n",
       "402003            595              USED               2015.00  11490   \n",
       "402004       A4 Avant              USED               2014.00  20520   \n",
       "\n",
       "        body_type  crossover_car_and_van fuel_type  \n",
       "402000  Hatchback                  False    Petrol  \n",
       "402001  Hatchback                  False    Petrol  \n",
       "402002        SUV                  False    Petrol  \n",
       "402003  Hatchback                  False    Petrol  \n",
       "402004     Estate                  False    Diesel  "
      ]
     },
     "execution_count": 91,
     "metadata": {},
     "output_type": "execute_result"
    }
   ],
   "source": [
    "# Here, I have used .tail() to get some insights on the last 5 rows of the data frame.\n",
    "adv.tail()"
   ]
  },
  {
   "cell_type": "code",
   "execution_count": 92,
   "id": "33193a3e",
   "metadata": {},
   "outputs": [
    {
     "data": {
      "text/plain": [
       "(402005, 12)"
      ]
     },
     "execution_count": 92,
     "metadata": {},
     "output_type": "execute_result"
    }
   ],
   "source": [
    "# Here, I have used .shape to get an idea on the number of rows and columns we have in this data set. \n",
    "# (i.e 402005  rows and 12 columns)\n",
    "adv.shape"
   ]
  },
  {
   "cell_type": "markdown",
   "id": "17e66519",
   "metadata": {},
   "source": [
    "### 3. Check Correct Parsing of Data"
   ]
  },
  {
   "cell_type": "code",
   "execution_count": 93,
   "id": "2b0b4a10",
   "metadata": {},
   "outputs": [
    {
     "data": {
      "text/plain": [
       "public_reference           int64\n",
       "mileage                  float64\n",
       "reg_code                  object\n",
       "standard_colour           object\n",
       "standard_make             object\n",
       "standard_model            object\n",
       "vehicle_condition         object\n",
       "year_of_registration     float64\n",
       "price                      int64\n",
       "body_type                 object\n",
       "crossover_car_and_van       bool\n",
       "fuel_type                 object\n",
       "dtype: object"
      ]
     },
     "execution_count": 93,
     "metadata": {},
     "output_type": "execute_result"
    }
   ],
   "source": [
    "# Here, I am using .dtypes to get an understanding on the data-types.\n",
    "adv.dtypes"
   ]
  },
  {
   "cell_type": "markdown",
   "id": "68932c9d",
   "metadata": {},
   "source": [
    "We have 4 types of data types.\n",
    "* int64\n",
    "* float\n",
    "* object\n",
    "* bool"
   ]
  },
  {
   "cell_type": "code",
   "execution_count": 94,
   "id": "339d4dfb",
   "metadata": {},
   "outputs": [
    {
     "data": {
      "text/html": [
       "<div>\n",
       "<style scoped>\n",
       "    .dataframe tbody tr th:only-of-type {\n",
       "        vertical-align: middle;\n",
       "    }\n",
       "\n",
       "    .dataframe tbody tr th {\n",
       "        vertical-align: top;\n",
       "    }\n",
       "\n",
       "    .dataframe thead th {\n",
       "        text-align: right;\n",
       "    }\n",
       "</style>\n",
       "<table border=\"1\" class=\"dataframe\">\n",
       "  <thead>\n",
       "    <tr style=\"text-align: right;\">\n",
       "      <th></th>\n",
       "      <th>public_reference</th>\n",
       "      <th>mileage</th>\n",
       "      <th>reg_code</th>\n",
       "      <th>standard_colour</th>\n",
       "      <th>standard_make</th>\n",
       "      <th>standard_model</th>\n",
       "      <th>vehicle_condition</th>\n",
       "      <th>year_of_registration</th>\n",
       "      <th>price</th>\n",
       "      <th>body_type</th>\n",
       "      <th>crossover_car_and_van</th>\n",
       "      <th>fuel_type</th>\n",
       "    </tr>\n",
       "  </thead>\n",
       "  <tbody>\n",
       "    <tr>\n",
       "      <th>0</th>\n",
       "      <td>202006039777689</td>\n",
       "      <td>0.00</td>\n",
       "      <td>NaN</td>\n",
       "      <td>Grey</td>\n",
       "      <td>Volvo</td>\n",
       "      <td>XC90</td>\n",
       "      <td>NEW</td>\n",
       "      <td>NaN</td>\n",
       "      <td>73970</td>\n",
       "      <td>SUV</td>\n",
       "      <td>False</td>\n",
       "      <td>Petrol Plug-in Hybrid</td>\n",
       "    </tr>\n",
       "    <tr>\n",
       "      <th>1</th>\n",
       "      <td>202007020778260</td>\n",
       "      <td>108230.00</td>\n",
       "      <td>61</td>\n",
       "      <td>Blue</td>\n",
       "      <td>Jaguar</td>\n",
       "      <td>XF</td>\n",
       "      <td>USED</td>\n",
       "      <td>2011.00</td>\n",
       "      <td>7000</td>\n",
       "      <td>Saloon</td>\n",
       "      <td>False</td>\n",
       "      <td>Diesel</td>\n",
       "    </tr>\n",
       "    <tr>\n",
       "      <th>2</th>\n",
       "      <td>202007020778474</td>\n",
       "      <td>7800.00</td>\n",
       "      <td>17</td>\n",
       "      <td>Grey</td>\n",
       "      <td>SKODA</td>\n",
       "      <td>Yeti</td>\n",
       "      <td>USED</td>\n",
       "      <td>2017.00</td>\n",
       "      <td>14000</td>\n",
       "      <td>SUV</td>\n",
       "      <td>False</td>\n",
       "      <td>Petrol</td>\n",
       "    </tr>\n",
       "    <tr>\n",
       "      <th>3</th>\n",
       "      <td>202007080986776</td>\n",
       "      <td>45000.00</td>\n",
       "      <td>16</td>\n",
       "      <td>Brown</td>\n",
       "      <td>Vauxhall</td>\n",
       "      <td>Mokka</td>\n",
       "      <td>USED</td>\n",
       "      <td>2016.00</td>\n",
       "      <td>7995</td>\n",
       "      <td>Hatchback</td>\n",
       "      <td>False</td>\n",
       "      <td>Diesel</td>\n",
       "    </tr>\n",
       "    <tr>\n",
       "      <th>4</th>\n",
       "      <td>202007161321269</td>\n",
       "      <td>64000.00</td>\n",
       "      <td>64</td>\n",
       "      <td>Grey</td>\n",
       "      <td>Land Rover</td>\n",
       "      <td>Range Rover Sport</td>\n",
       "      <td>USED</td>\n",
       "      <td>2015.00</td>\n",
       "      <td>26995</td>\n",
       "      <td>SUV</td>\n",
       "      <td>False</td>\n",
       "      <td>Diesel</td>\n",
       "    </tr>\n",
       "  </tbody>\n",
       "</table>\n",
       "</div>"
      ],
      "text/plain": [
       "   public_reference   mileage reg_code standard_colour standard_make  \\\n",
       "0   202006039777689      0.00      NaN            Grey         Volvo   \n",
       "1   202007020778260 108230.00       61            Blue        Jaguar   \n",
       "2   202007020778474   7800.00       17            Grey         SKODA   \n",
       "3   202007080986776  45000.00       16           Brown      Vauxhall   \n",
       "4   202007161321269  64000.00       64            Grey    Land Rover   \n",
       "\n",
       "      standard_model vehicle_condition  year_of_registration  price  \\\n",
       "0               XC90               NEW                   NaN  73970   \n",
       "1                 XF              USED               2011.00   7000   \n",
       "2               Yeti              USED               2017.00  14000   \n",
       "3              Mokka              USED               2016.00   7995   \n",
       "4  Range Rover Sport              USED               2015.00  26995   \n",
       "\n",
       "   body_type  crossover_car_and_van              fuel_type  \n",
       "0        SUV                  False  Petrol Plug-in Hybrid  \n",
       "1     Saloon                  False                 Diesel  \n",
       "2        SUV                  False                 Petrol  \n",
       "3  Hatchback                  False                 Diesel  \n",
       "4        SUV                  False                 Diesel  "
      ]
     },
     "execution_count": 94,
     "metadata": {},
     "output_type": "execute_result"
    }
   ],
   "source": [
    "adv.head()"
   ]
  },
  {
   "cell_type": "markdown",
   "id": "87443512",
   "metadata": {},
   "source": [
    "Here, after looking at the dataset we can see that the \"reg_code\" is also numeric column and when we look at the datatypes with\n",
    "using .dtypes the reg_code is an object. So, we need to convert this datatype from object to int."
   ]
  },
  {
   "cell_type": "code",
   "execution_count": 95,
   "id": "80bf9d78",
   "metadata": {},
   "outputs": [],
   "source": [
    "# Here, I am asking pandas to convert 'reg_code' column from object to a float.\n",
    "adv['reg_code'] = pd.to_numeric(adv['reg_code'], errors='coerce')"
   ]
  },
  {
   "cell_type": "code",
   "execution_count": 96,
   "id": "f6b17094",
   "metadata": {},
   "outputs": [
    {
     "data": {
      "text/plain": [
       "public_reference           int64\n",
       "mileage                  float64\n",
       "reg_code                 float64\n",
       "standard_colour           object\n",
       "standard_make             object\n",
       "standard_model            object\n",
       "vehicle_condition         object\n",
       "year_of_registration     float64\n",
       "price                      int64\n",
       "body_type                 object\n",
       "crossover_car_and_van       bool\n",
       "fuel_type                 object\n",
       "dtype: object"
      ]
     },
     "execution_count": 96,
     "metadata": {},
     "output_type": "execute_result"
    }
   ],
   "source": [
    "adv.dtypes"
   ]
  },
  {
   "cell_type": "markdown",
   "id": "fe379fb3",
   "metadata": {},
   "source": [
    "I have successfully converted 'reg_code' from object to float64"
   ]
  },
  {
   "cell_type": "code",
   "execution_count": 97,
   "id": "d751b4f5",
   "metadata": {},
   "outputs": [
    {
     "data": {
      "text/plain": [
       "public_reference             0\n",
       "mileage                    127\n",
       "reg_code                 34772\n",
       "standard_colour           5378\n",
       "standard_make                0\n",
       "standard_model               0\n",
       "vehicle_condition            0\n",
       "year_of_registration     33311\n",
       "price                        0\n",
       "body_type                  837\n",
       "crossover_car_and_van        0\n",
       "fuel_type                  601\n",
       "dtype: int64"
      ]
     },
     "execution_count": 97,
     "metadata": {},
     "output_type": "execute_result"
    }
   ],
   "source": [
    "# Here, I am trying to figure out the null values column wise.\n",
    "adv.isnull().sum()"
   ]
  },
  {
   "cell_type": "markdown",
   "id": "b2639a12",
   "metadata": {},
   "source": [
    "### 4. Identify Quantitative and Qualitative Features"
   ]
  },
  {
   "cell_type": "code",
   "execution_count": 98,
   "id": "c4afa678",
   "metadata": {},
   "outputs": [],
   "source": [
    "# Here, I am assigning a variable to the numerical (quantitative) columns in our data set.\n",
    "numeric_cols = adv.select_dtypes(include=['int64', 'float64']).columns"
   ]
  },
  {
   "cell_type": "code",
   "execution_count": 99,
   "id": "0f80f471",
   "metadata": {},
   "outputs": [
    {
     "data": {
      "text/plain": [
       "Index(['public_reference', 'mileage', 'reg_code', 'year_of_registration',\n",
       "       'price'],\n",
       "      dtype='object')"
      ]
     },
     "execution_count": 99,
     "metadata": {},
     "output_type": "execute_result"
    }
   ],
   "source": [
    "numeric_cols"
   ]
  },
  {
   "cell_type": "markdown",
   "id": "2415ecf5",
   "metadata": {},
   "source": [
    "Now we have created a variable with all the numeric (Quantitative) columns in our data set.\n",
    "* public_reference\n",
    "* mileage\n",
    "* reg_code\n",
    "* year_of_registration\n",
    "* price"
   ]
  },
  {
   "cell_type": "code",
   "execution_count": 100,
   "id": "1ea7fe3a",
   "metadata": {},
   "outputs": [],
   "source": [
    "# Here, I am assiging a variable to the categorical (qualitative) columns in the dataset.\n",
    "categorical_cols = adv.select_dtypes(include=['object']).columns"
   ]
  },
  {
   "cell_type": "code",
   "execution_count": 101,
   "id": "960bee89",
   "metadata": {},
   "outputs": [
    {
     "data": {
      "text/plain": [
       "Index(['standard_colour', 'standard_make', 'standard_model',\n",
       "       'vehicle_condition', 'body_type', 'fuel_type'],\n",
       "      dtype='object')"
      ]
     },
     "execution_count": 101,
     "metadata": {},
     "output_type": "execute_result"
    }
   ],
   "source": [
    "categorical_cols"
   ]
  },
  {
   "cell_type": "markdown",
   "id": "ecce18e0",
   "metadata": {},
   "source": [
    "Now we have created a variable with the catergorical (Qualitative) columns in our data set.\n",
    "* standard_colour\n",
    "* standard_make\n",
    "* standard_model\n",
    "* vehicle_condition\n",
    "* body_type\n",
    "* fuel_type"
   ]
  },
  {
   "cell_type": "markdown",
   "id": "505f4d50",
   "metadata": {},
   "source": [
    "### 5. Analyze Data Distibution"
   ]
  },
  {
   "cell_type": "code",
   "execution_count": 102,
   "id": "c14a5b44",
   "metadata": {},
   "outputs": [],
   "source": [
    "numeric_stats = adv[numeric_cols].describe()"
   ]
  },
  {
   "cell_type": "code",
   "execution_count": 103,
   "id": "b29c106b",
   "metadata": {},
   "outputs": [
    {
     "data": {
      "text/html": [
       "<div>\n",
       "<style scoped>\n",
       "    .dataframe tbody tr th:only-of-type {\n",
       "        vertical-align: middle;\n",
       "    }\n",
       "\n",
       "    .dataframe tbody tr th {\n",
       "        vertical-align: top;\n",
       "    }\n",
       "\n",
       "    .dataframe thead th {\n",
       "        text-align: right;\n",
       "    }\n",
       "</style>\n",
       "<table border=\"1\" class=\"dataframe\">\n",
       "  <thead>\n",
       "    <tr style=\"text-align: right;\">\n",
       "      <th></th>\n",
       "      <th>public_reference</th>\n",
       "      <th>mileage</th>\n",
       "      <th>reg_code</th>\n",
       "      <th>year_of_registration</th>\n",
       "      <th>price</th>\n",
       "    </tr>\n",
       "  </thead>\n",
       "  <tbody>\n",
       "    <tr>\n",
       "      <th>count</th>\n",
       "      <td>402005.00</td>\n",
       "      <td>401878.00</td>\n",
       "      <td>367233.00</td>\n",
       "      <td>368694.00</td>\n",
       "      <td>402005.00</td>\n",
       "    </tr>\n",
       "    <tr>\n",
       "      <th>mean</th>\n",
       "      <td>202007077472444.47</td>\n",
       "      <td>37743.60</td>\n",
       "      <td>40.44</td>\n",
       "      <td>2015.01</td>\n",
       "      <td>17341.97</td>\n",
       "    </tr>\n",
       "    <tr>\n",
       "      <th>std</th>\n",
       "      <td>16916615997.34</td>\n",
       "      <td>34831.72</td>\n",
       "      <td>25.20</td>\n",
       "      <td>7.96</td>\n",
       "      <td>46437.46</td>\n",
       "    </tr>\n",
       "    <tr>\n",
       "      <th>min</th>\n",
       "      <td>201307177852187.00</td>\n",
       "      <td>0.00</td>\n",
       "      <td>2.00</td>\n",
       "      <td>999.00</td>\n",
       "      <td>120.00</td>\n",
       "    </tr>\n",
       "    <tr>\n",
       "      <th>25%</th>\n",
       "      <td>202009023197699.00</td>\n",
       "      <td>10481.00</td>\n",
       "      <td>16.00</td>\n",
       "      <td>2013.00</td>\n",
       "      <td>7495.00</td>\n",
       "    </tr>\n",
       "    <tr>\n",
       "      <th>50%</th>\n",
       "      <td>202009304400624.00</td>\n",
       "      <td>28629.50</td>\n",
       "      <td>54.00</td>\n",
       "      <td>2016.00</td>\n",
       "      <td>12600.00</td>\n",
       "    </tr>\n",
       "    <tr>\n",
       "      <th>75%</th>\n",
       "      <td>202010175124399.00</td>\n",
       "      <td>56875.75</td>\n",
       "      <td>66.00</td>\n",
       "      <td>2018.00</td>\n",
       "      <td>20000.00</td>\n",
       "    </tr>\n",
       "    <tr>\n",
       "      <th>max</th>\n",
       "      <td>202011025683478.00</td>\n",
       "      <td>999999.00</td>\n",
       "      <td>95.00</td>\n",
       "      <td>2020.00</td>\n",
       "      <td>9999999.00</td>\n",
       "    </tr>\n",
       "  </tbody>\n",
       "</table>\n",
       "</div>"
      ],
      "text/plain": [
       "        public_reference   mileage  reg_code  year_of_registration      price\n",
       "count          402005.00 401878.00 367233.00             368694.00  402005.00\n",
       "mean  202007077472444.47  37743.60     40.44               2015.01   17341.97\n",
       "std       16916615997.34  34831.72     25.20                  7.96   46437.46\n",
       "min   201307177852187.00      0.00      2.00                999.00     120.00\n",
       "25%   202009023197699.00  10481.00     16.00               2013.00    7495.00\n",
       "50%   202009304400624.00  28629.50     54.00               2016.00   12600.00\n",
       "75%   202010175124399.00  56875.75     66.00               2018.00   20000.00\n",
       "max   202011025683478.00 999999.00     95.00               2020.00 9999999.00"
      ]
     },
     "execution_count": 103,
     "metadata": {},
     "output_type": "execute_result"
    }
   ],
   "source": [
    "numeric_stats"
   ]
  },
  {
   "cell_type": "code",
   "execution_count": 107,
   "id": "0e0e13b3",
   "metadata": {},
   "outputs": [
    {
     "data": {
      "image/png": "[encoded data removed]",
      "text/plain": [
       "<Figure size 800x400 with 1 Axes>"
      ]
     },
     "metadata": {},
     "output_type": "display_data"
    }
   ],
   "source": [
    "plt.figure(figsize=(8, 4))\n",
    "sns.histplot(adv['mileage'].dropna(), kde=True)\n",
    "plt.title('Distribution of mileage')\n",
    "plt.xlabel('mileage')\n",
    "plt.ylabel('Frequency')\n",
    "plt.show()"
   ]
  },
  {
   "cell_type": "markdown",
   "id": "5f26279c",
   "metadata": {},
   "source": [
    "The histogram shows that the most vehicles have lower mileage, with a decreasing number of vehicles as mileage increases, \n",
    "indicating that vehicles with high mileage are less common."
   ]
  },
  {
   "cell_type": "code",
   "execution_count": 81,
   "id": "46650ce1",
   "metadata": {},
   "outputs": [
    {
     "data": {
      "image/png": "[encoded data removed]",
      "text/plain": [
       "<Figure size 800x400 with 1 Axes>"
      ]
     },
     "metadata": {},
     "output_type": "display_data"
    }
   ],
   "source": [
    "plt.figure(figsize=(8, 4))\n",
    "sns.histplot(adv['price'].dropna(), kde=True)\n",
    "plt.title('Distribution of price')\n",
    "plt.xlabel('price')\n",
    "plt.ylabel('Frequency')\n",
    "plt.show()"
   ]
  },
  {
   "cell_type": "code",
   "execution_count": 121,
   "id": "06fbb1dc",
   "metadata": {},
   "outputs": [
    {
     "data": {
      "image/png": "[encoded data removed]",
      "text/plain": [
       "<Figure size 800x400 with 1 Axes>"
      ]
     },
     "metadata": {},
     "output_type": "display_data"
    }
   ],
   "source": [
    "plt.figure(figsize=(8, 4))\n",
    "sns.histplot(adv['year_of_registration'].dropna(), kde=True)\n",
    "plt.title('Distribution of year_of_registration')\n",
    "plt.xlabel('year_of_registration')\n",
    "plt.ylabel('Frequency')\n",
    "plt.show()"
   ]
  },
  {
   "cell_type": "markdown",
   "id": "a484018c",
   "metadata": {},
   "source": [
    "# Data Preprocessing"
   ]
  },
  {
   "cell_type": "markdown",
   "id": "dfdcc0a2",
   "metadata": {},
   "source": [
    "### 1. Detect and Deal with Noise and Erroneous Values"
   ]
  },
  {
   "cell_type": "code",
   "execution_count": 123,
   "id": "3406e476",
   "metadata": {},
   "outputs": [],
   "source": [
    "adv['price'] = adv['price'].apply(lambda x: abs(x) if x < 0 else x)"
   ]
  },
  {
   "cell_type": "markdown",
   "id": "540b1ecd",
   "metadata": {},
   "source": [
    "### 2. Handling Missing Values"
   ]
  },
  {
   "cell_type": "code",
   "execution_count": 21,
   "id": "b8e3def2",
   "metadata": {},
   "outputs": [
    {
     "data": {
      "text/plain": [
       "public_reference       202007077472444.47\n",
       "mileage                          37743.60\n",
       "reg_code                            40.44\n",
       "year_of_registration              2015.01\n",
       "price                            17341.97\n",
       "dtype: float64"
      ]
     },
     "execution_count": 21,
     "metadata": {},
     "output_type": "execute_result"
    }
   ],
   "source": [
    "adv_mean = adv[numeric_cols].mean()\n",
    "adv_mean"
   ]
  },
  {
   "cell_type": "code",
   "execution_count": 22,
   "id": "8e58b2ae",
   "metadata": {},
   "outputs": [],
   "source": [
    "# Filling missing values for numerical columns\n",
    "adv[numeric_cols] = adv[numeric_cols].fillna(adv[numeric_cols].mean())"
   ]
  },
  {
   "cell_type": "code",
   "execution_count": 39,
   "id": "c672236f",
   "metadata": {},
   "outputs": [
    {
     "data": {
      "text/plain": [
       "public_reference            0\n",
       "mileage                     0\n",
       "reg_code                    0\n",
       "standard_colour          5378\n",
       "standard_make               0\n",
       "standard_model              0\n",
       "vehicle_condition           0\n",
       "year_of_registration        0\n",
       "price                       0\n",
       "body_type                 837\n",
       "crossover_car_and_van       0\n",
       "fuel_type                 601\n",
       "dtype: int64"
      ]
     },
     "execution_count": 39,
     "metadata": {},
     "output_type": "execute_result"
    }
   ],
   "source": [
    "adv.isnull().sum()"
   ]
  },
  {
   "cell_type": "markdown",
   "id": "2a38b415",
   "metadata": {},
   "source": [
    "Now here I have filled all the missing values of numeric columns using a mean value."
   ]
  },
  {
   "cell_type": "code",
   "execution_count": 44,
   "id": "b954b040",
   "metadata": {},
   "outputs": [
    {
     "data": {
      "text/html": [
       "<div>\n",
       "<style scoped>\n",
       "    .dataframe tbody tr th:only-of-type {\n",
       "        vertical-align: middle;\n",
       "    }\n",
       "\n",
       "    .dataframe tbody tr th {\n",
       "        vertical-align: top;\n",
       "    }\n",
       "\n",
       "    .dataframe thead th {\n",
       "        text-align: right;\n",
       "    }\n",
       "</style>\n",
       "<table border=\"1\" class=\"dataframe\">\n",
       "  <thead>\n",
       "    <tr style=\"text-align: right;\">\n",
       "      <th></th>\n",
       "      <th>public_reference</th>\n",
       "      <th>mileage</th>\n",
       "      <th>reg_code</th>\n",
       "      <th>standard_colour</th>\n",
       "      <th>standard_make</th>\n",
       "      <th>standard_model</th>\n",
       "      <th>vehicle_condition</th>\n",
       "      <th>year_of_registration</th>\n",
       "      <th>price</th>\n",
       "      <th>body_type</th>\n",
       "      <th>crossover_car_and_van</th>\n",
       "      <th>fuel_type</th>\n",
       "    </tr>\n",
       "  </thead>\n",
       "  <tbody>\n",
       "    <tr>\n",
       "      <th>0</th>\n",
       "      <td>202006039777689</td>\n",
       "      <td>0.00</td>\n",
       "      <td>40.44</td>\n",
       "      <td>Grey</td>\n",
       "      <td>Volvo</td>\n",
       "      <td>XC90</td>\n",
       "      <td>NEW</td>\n",
       "      <td>2015.01</td>\n",
       "      <td>73970</td>\n",
       "      <td>SUV</td>\n",
       "      <td>False</td>\n",
       "      <td>Petrol Plug-in Hybrid</td>\n",
       "    </tr>\n",
       "    <tr>\n",
       "      <th>1</th>\n",
       "      <td>202007020778260</td>\n",
       "      <td>108230.00</td>\n",
       "      <td>61.00</td>\n",
       "      <td>Blue</td>\n",
       "      <td>Jaguar</td>\n",
       "      <td>XF</td>\n",
       "      <td>USED</td>\n",
       "      <td>2011.00</td>\n",
       "      <td>7000</td>\n",
       "      <td>Saloon</td>\n",
       "      <td>False</td>\n",
       "      <td>Diesel</td>\n",
       "    </tr>\n",
       "    <tr>\n",
       "      <th>2</th>\n",
       "      <td>202007020778474</td>\n",
       "      <td>7800.00</td>\n",
       "      <td>17.00</td>\n",
       "      <td>Grey</td>\n",
       "      <td>SKODA</td>\n",
       "      <td>Yeti</td>\n",
       "      <td>USED</td>\n",
       "      <td>2017.00</td>\n",
       "      <td>14000</td>\n",
       "      <td>SUV</td>\n",
       "      <td>False</td>\n",
       "      <td>Petrol</td>\n",
       "    </tr>\n",
       "    <tr>\n",
       "      <th>3</th>\n",
       "      <td>202007080986776</td>\n",
       "      <td>45000.00</td>\n",
       "      <td>16.00</td>\n",
       "      <td>Brown</td>\n",
       "      <td>Vauxhall</td>\n",
       "      <td>Mokka</td>\n",
       "      <td>USED</td>\n",
       "      <td>2016.00</td>\n",
       "      <td>7995</td>\n",
       "      <td>Hatchback</td>\n",
       "      <td>False</td>\n",
       "      <td>Diesel</td>\n",
       "    </tr>\n",
       "    <tr>\n",
       "      <th>4</th>\n",
       "      <td>202007161321269</td>\n",
       "      <td>64000.00</td>\n",
       "      <td>64.00</td>\n",
       "      <td>Grey</td>\n",
       "      <td>Land Rover</td>\n",
       "      <td>Range Rover Sport</td>\n",
       "      <td>USED</td>\n",
       "      <td>2015.00</td>\n",
       "      <td>26995</td>\n",
       "      <td>SUV</td>\n",
       "      <td>False</td>\n",
       "      <td>Diesel</td>\n",
       "    </tr>\n",
       "  </tbody>\n",
       "</table>\n",
       "</div>"
      ],
      "text/plain": [
       "   public_reference   mileage  reg_code standard_colour standard_make  \\\n",
       "0   202006039777689      0.00     40.44            Grey         Volvo   \n",
       "1   202007020778260 108230.00     61.00            Blue        Jaguar   \n",
       "2   202007020778474   7800.00     17.00            Grey         SKODA   \n",
       "3   202007080986776  45000.00     16.00           Brown      Vauxhall   \n",
       "4   202007161321269  64000.00     64.00            Grey    Land Rover   \n",
       "\n",
       "      standard_model vehicle_condition  year_of_registration  price  \\\n",
       "0               XC90               NEW               2015.01  73970   \n",
       "1                 XF              USED               2011.00   7000   \n",
       "2               Yeti              USED               2017.00  14000   \n",
       "3              Mokka              USED               2016.00   7995   \n",
       "4  Range Rover Sport              USED               2015.00  26995   \n",
       "\n",
       "   body_type  crossover_car_and_van              fuel_type  \n",
       "0        SUV                  False  Petrol Plug-in Hybrid  \n",
       "1     Saloon                  False                 Diesel  \n",
       "2        SUV                  False                 Petrol  \n",
       "3  Hatchback                  False                 Diesel  \n",
       "4        SUV                  False                 Diesel  "
      ]
     },
     "execution_count": 44,
     "metadata": {},
     "output_type": "execute_result"
    }
   ],
   "source": [
    "adv.head()"
   ]
  },
  {
   "cell_type": "code",
   "execution_count": null,
   "id": "fed987aa",
   "metadata": {},
   "outputs": [],
   "source": []
  }
 ],
 "metadata": {
  "kernelspec": {
   "display_name": "Python 3 (ipykernel)",
   "language": "python",
   "name": "python3"
  },
  "language_info": {
   "codemirror_mode": {
    "name": "ipython",
    "version": 3
   },
   "file_extension": ".py",
   "mimetype": "text/x-python",
   "name": "python",
   "nbconvert_exporter": "python",
   "pygments_lexer": "ipython3",
   "version": "3.11.5"
  }
 },
 "nbformat": 4,
 "nbformat_minor": 5
}
